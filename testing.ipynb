{
 "cells": [
  {
   "cell_type": "code",
   "execution_count": 1,
   "id": "fd060dc8",
   "metadata": {},
   "outputs": [
    {
     "data": {
      "text/plain": [
       "True"
      ]
     },
     "execution_count": 1,
     "metadata": {},
     "output_type": "execute_result"
    }
   ],
   "source": [
    "import os  # operating system\n",
    "from dotenv import load_dotenv\n",
    "load_dotenv()"
   ]
  },
  {
   "cell_type": "code",
   "execution_count": 2,
   "id": "381e0728",
   "metadata": {},
   "outputs": [],
   "source": [
    "os.environ[\"LANGCHAIN_API_KEY\"] = os.getenv(\"LANGCHAIN_API_KEY\")\n",
    "\n"
   ]
  },
  {
   "cell_type": "code",
   "execution_count": 3,
   "id": "0595d41f",
   "metadata": {},
   "outputs": [],
   "source": [
    "groq_api_key = os.getenv(\"GROQ_API_KEY\")"
   ]
  },
  {
   "cell_type": "code",
   "execution_count": 4,
   "id": "8da2b2a5",
   "metadata": {},
   "outputs": [],
   "source": [
    "from langchain_groq import ChatGroq"
   ]
  },
  {
   "cell_type": "code",
   "execution_count": 5,
   "id": "7a8c3f7c",
   "metadata": {},
   "outputs": [],
   "source": [
    "model = ChatGroq(model =\"Deepseek-R1-Distill-Llama-70b\", groq_api_key=groq_api_key)"
   ]
  },
  {
   "cell_type": "code",
   "execution_count": 18,
   "id": "ce06ca11",
   "metadata": {},
   "outputs": [
    {
     "data": {
      "text/plain": [
       "ChatGroq(client=<groq.resources.chat.completions.Completions object at 0x00000123EA14C7D0>, async_client=<groq.resources.chat.completions.AsyncCompletions object at 0x00000123EA286390>, model_name='Deepseek-R1-Distill-Llama-70b', model_kwargs={}, groq_api_key=SecretStr('**********'))"
      ]
     },
     "execution_count": 18,
     "metadata": {},
     "output_type": "execute_result"
    }
   ],
   "source": [
    "model"
   ]
  },
  {
   "cell_type": "code",
   "execution_count": 7,
   "id": "c9e13ef5",
   "metadata": {},
   "outputs": [
    {
     "data": {
      "text/plain": [
       "AIMessage(content='<think>\\n\\n</think>\\n\\nHello! How can I assist you today? 😊', additional_kwargs={}, response_metadata={'token_usage': {'completion_tokens': 16, 'prompt_tokens': 5, 'total_tokens': 21, 'completion_time': 0.082695676, 'prompt_time': 9.6448e-05, 'queue_time': 0.053614192, 'total_time': 0.082792124}, 'model_name': 'Deepseek-R1-Distill-Llama-70b', 'system_fingerprint': 'fp_1bbe7845ec', 'finish_reason': 'stop', 'logprobs': None}, id='run--6e7cf461-e43d-4bfb-bed3-65724b48fc0e-0', usage_metadata={'input_tokens': 5, 'output_tokens': 16, 'total_tokens': 21})"
      ]
     },
     "execution_count": 7,
     "metadata": {},
     "output_type": "execute_result"
    }
   ],
   "source": [
    "model.invoke(\"hello model\")"
   ]
  },
  {
   "cell_type": "code",
   "execution_count": 8,
   "id": "9e1d8a43",
   "metadata": {},
   "outputs": [
    {
     "data": {
      "text/plain": [
       "AIMessage(content='<think>\\n\\n</think>\\n\\nMachine learning is a subset of artificial intelligence (AI) that involves the use of algorithms and statistical models to enable machines to perform a specific task without using explicit instructions, relying instead on patterns and inferences from data. In other words, machine learning allows computers to learn from data and improve their performance on a task over time.\\n\\n### Key Concepts in Machine Learning:\\n1. **Data**: The foundation of machine learning. Models learn from data, which can be structured (e.g., tables) or unstructured (e.g., images, text).\\n2. **Algorithms**: Mathematical procedures that process data to learn patterns or make predictions. Examples include decision trees, neural networks, and support vector machines.\\n3. **Training**: The process of feeding data to a model so it can learn patterns or relationships.\\n4. **Model**: The result of training, which can make predictions or decisions based on new, unseen data.\\n5. **Inference**: Using the trained model to make predictions or take actions on new data.\\n\\n### Types of Machine Learning:\\n1. **Supervised Learning**: The model is trained on labeled data (data with known outputs). It learns to map inputs to outputs and can be used for tasks like classification and regression.\\n   - Example: Predicting house prices based on historical data.\\n\\n2. **Unsupervised Learning**: The model is trained on unlabeled data and aims to find hidden patterns or groupings in the data.\\n   - Example: Customer segmentation based on buying behavior.\\n\\n3. **Semi-Supervised Learning**: Combines labeled and unlabeled data to improve learning efficiency.\\n   - Example: Image classification with some labeled and many unlabeled images.\\n\\n4. **Reinforcement Learning**: The model learns by interacting with an environment and receiving rewards or penalties for actions.\\n   - Example: Training a robot to perform tasks through trial and error.\\n\\n### Applications of Machine Learning:\\n- **Natural Language Processing (NLP)**: Text analysis, sentiment analysis, translation.\\n- **Computer Vision**: Image recognition, object detection, facial recognition.\\n- **Predictive Analytics**: Forecasting sales, stock prices, or weather.\\n- **Recommendation Systems**: Personalized product or content suggestions.\\n- **Autonomous Vehicles**: Decision-making and navigation systems.\\n\\n### Machine Learning Workflow:\\n1. **Data Collection**: Gather relevant data.\\n2. **Data Preprocessing**: Clean, transform, and prepare the data for training.\\n3. **Model Selection**: Choose an appropriate algorithm.\\n4. **Training**: Feed the data to the model to learn patterns.\\n5. **Evaluation**: Test the model on unseen data to assess performance.\\n6. **Deployment**: Use the trained model to make predictions or decisions.\\n\\n### Challenges in Machine Learning:\\n- **Data Quality**: Poor or biased data can lead to inaccurate models.\\n- **Overfitting/Underfitting**: Models may perform well on training data but fail on new data.\\n- **Interpretability**: Complex models (e.g., neural networks) can be difficult to interpret.\\n- **Scalability**: Handling large datasets and computational demands.\\n\\nMachine learning has revolutionized industries from healthcare to finance, enabling automation, personalization, and data-driven decision-making.', additional_kwargs={}, response_metadata={'token_usage': {'completion_tokens': 651, 'prompt_tokens': 8, 'total_tokens': 659, 'completion_time': 2.367272727, 'prompt_time': 0.000358502, 'queue_time': 0.054133678000000005, 'total_time': 2.367631229}, 'model_name': 'Deepseek-R1-Distill-Llama-70b', 'system_fingerprint': 'fp_1bbe7845ec', 'finish_reason': 'stop', 'logprobs': None}, id='run--5d94ab6b-e657-4ef0-8ac7-00d71e3a443c-0', usage_metadata={'input_tokens': 8, 'output_tokens': 651, 'total_tokens': 659})"
      ]
     },
     "execution_count": 8,
     "metadata": {},
     "output_type": "execute_result"
    }
   ],
   "source": [
    "model.invoke(\"what is machine learning?\")"
   ]
  },
  {
   "cell_type": "code",
   "execution_count": 9,
   "id": "99f47d93",
   "metadata": {},
   "outputs": [
    {
     "data": {
      "text/plain": [
       "AIMessage(content='<think>\\nOkay, so I\\'m trying to figure out what computer science is. I\\'ve heard the term before, but I\\'m not exactly sure what it entails. Let me think about this.\\n\\nFirst off, the name itself gives a clue: \"computer\" and \"science.\" So, it\\'s a science related to computers. But what does that really mean? I know that computers are machines that process information, but how does that become a science?\\n\\nMaybe it\\'s about understanding how computers work. But wait, isn\\'t that more like engineering? Or maybe it\\'s about the software side? I\\'ve heard terms like programming and algorithms thrown around a lot. So, perhaps computer science involves the study of algorithms and how to create software.\\n\\nI remember taking a class where we learned some basic programming, like Python. That was part of computer science, right? So, it\\'s about writing code, but maybe it\\'s more than that. There\\'s also things like data structures, which I think are ways to organize data efficiently. And algorithms, which are like step-by-step procedures for solving problems or performing tasks.\\n\\nBut then, what about the hardware side? I mean, computers have processors, memory, and other physical components. Is that part of computer science too? Or is that more electrical engineering? I\\'m a bit confused there. Maybe computer science covers both the software and the hardware, but I\\'m not sure.\\n\\nI also think about the internet and how it works. Computer science probably deals with networking and how data is transmitted. Maybe things like cybersecurity fall under that too, since it\\'s about protecting computer systems and data.\\n\\nAnother area I\\'ve heard about is artificial intelligence. That seems to be a big part of computer science these days. AI involves machines learning and making decisions, which probably ties into algorithms and data analysis.\\n\\nWait, there\\'s also something called theoretical computer science. I\\'m not entirely sure what that is, but the term \"theoretical\" makes me think it\\'s more about the mathematical and logical foundations rather than practical applications. So, maybe it\\'s about understanding the limits of computation and what can be computed.\\n\\nI\\'ve heard of terms like \"Turing machines\" and \"Big O notation\" in this context. Turing machines are models of computation, right? And Big O notation is about measuring the complexity of algorithms, how efficient they are in terms of time and space.\\n\\nSo, putting this together, computer science seems to be a broad field that includes both the practical aspects, like programming and software development, and the theoretical aspects, like understanding the underlying principles of computation. It also branches into areas like computer graphics, which deals with how images are rendered on computers, and human-computer interaction, which is about designing user-friendly interfaces.\\n\\nI\\'m trying to remember if there are other subfields. There\\'s database systems, which manage data efficiently. Operating systems, which are the software that manage computer hardware resources. And maybe even things like computer vision, which allows computers to interpret visual data.\\n\\nI\\'m also thinking about the applications of computer science. It\\'s used in so many fields now—medicine, finance, education, entertainment. It\\'s not just about programming; it\\'s about solving problems using computational methods. So, computer science is both a tool for other disciplines and a field of study in itself.\\n\\nWait, but I\\'m still a bit confused about where the line is drawn between computer science and other related fields like information technology or software engineering. I think software engineering is more about the application of computer science principles to build software, while IT is more about the infrastructure and management of computer systems. Computer science, on the other hand, is more about the science behind it all—the theory, algorithms, and fundamental principles.\\n\\nSo, in summary, computer science is the study of computers and their processes, including algorithms, programming, data structures, hardware, networking, and the theoretical foundations of computation. It\\'s a vast field that applies to many areas and continues to evolve as technology advances.\\n</think>\\n\\nComputer science is a diverse and dynamic field that encompasses the study of computers, their processes, and their applications. It can be broken down into several key areas:\\n\\n1. **Theoretical Foundations**: This includes the study of algorithms, data structures, and the mathematical principles underlying computation. Concepts like Turing machines and Big O notation are central, focusing on the limits and efficiency of computational processes.\\n\\n2. **Software Development**: This involves programming and the creation of software, including areas like artificial intelligence, where machines learn and make decisions, and human-computer interaction, which focuses on user-friendly design.\\n\\n3. **Hardware and Engineering**: While computer science touches on hardware aspects, it often intersects with electrical engineering. It covers understanding computer architecture and how physical components function.\\n\\n4. **Networking and Cybersecurity**: This area deals with data transmission over networks and protecting computer systems from threats, ensuring data security.\\n\\n5. **Database Systems and Operating Systems**: These subfields manage data efficiently and handle hardware resource allocation, respectively.\\n\\n6. **Applications in Various Fields**: Computer science is applied across medicine, finance, education, and entertainment, using computational methods to solve problems.\\n\\nIn essence, computer science is both a theoretical discipline, exploring the principles of computation, and a practical field, applying these principles to develop innovative solutions. It is distinct from related fields like software engineering and information technology, which focus more on application and infrastructure management.', additional_kwargs={}, response_metadata={'token_usage': {'completion_tokens': 1090, 'prompt_tokens': 8, 'total_tokens': 1098, 'completion_time': 4.397043019, 'prompt_time': 0.000145957, 'queue_time': 0.067711433, 'total_time': 4.397188976}, 'model_name': 'Deepseek-R1-Distill-Llama-70b', 'system_fingerprint': 'fp_1bbe7845ec', 'finish_reason': 'stop', 'logprobs': None}, id='run--55e2940d-9361-40f8-82ce-8d09375f6b02-0', usage_metadata={'input_tokens': 8, 'output_tokens': 1090, 'total_tokens': 1098})"
      ]
     },
     "execution_count": 9,
     "metadata": {},
     "output_type": "execute_result"
    }
   ],
   "source": [
    "model.invoke(\"what is computer science?\")"
   ]
  },
  {
   "cell_type": "code",
   "execution_count": 10,
   "id": "27d50e09",
   "metadata": {},
   "outputs": [],
   "source": [
    "from langchain_core.prompts import ChatPromptTemplate"
   ]
  },
  {
   "cell_type": "code",
   "execution_count": 11,
   "id": "e1e818de",
   "metadata": {},
   "outputs": [],
   "source": [
    "prompt = ChatPromptTemplate(\n",
    "    [\n",
    "        (\"system\",\"You are a Satire Comedian, just give me a joke on the given topic\"),\n",
    "        (\"user\",\"topic: {topic}\")\n",
    "    ]\n",
    ")"
   ]
  },
  {
   "cell_type": "code",
   "execution_count": 12,
   "id": "39615ee1",
   "metadata": {},
   "outputs": [
    {
     "data": {
      "text/plain": [
       "ChatPromptValue(messages=[SystemMessage(content='You are a Satire Comedian, just give me a joke on the given topic', additional_kwargs={}, response_metadata={}), HumanMessage(content=\"topic: content='<think>\\\\n\\\\n</think>\\\\n\\\\nA computer is an electronic device that can be programmed to perform a wide variety of tasks. It processes information according to a set of instructions (software) and can store and retrieve data. Computers have become an essential part of modern life, used in everything from simple tasks like word processing to complex applications like scientific simulations and artificial intelligence.\\\\n\\\\n### Key Components of a Computer:\\\\n1. **Hardware**: The physical parts of the computer, such as the CPU (Central Processing Unit), memory (RAM), storage devices (hard drives, SSDs), input devices (keyboard, mouse), and output devices (monitor, printer).\\\\n2. **Software**: The programs and operating systems that run on the hardware. Examples include operating systems (Windows, macOS, Linux), productivity tools (Microsoft Office), and web browsers (Chrome, Firefox).\\\\n3. **Firmware**: Specialized software that is embedded in hardware devices, such as the BIOS or UEFI of a computer.\\\\n\\\\n### Types of Computers:\\\\n1. **Desktop Computers**: Designed for use at a single location, typically more powerful than portable computers.\\\\n2. **Laptops**: Portable computers that combine the functionality of a desktop computer with the ability to operate on battery power.\\\\n3. **Tablets**: Mobile devices with touchscreens, often used for media consumption and basic tasks.\\\\n4. **Smartphones**: Portable devices that combine the functionality of a computer with telecommunication capabilities.\\\\n5. **Servers**: Powerful computers designed to manage and provide services over a network.\\\\n6. **Supercomputers**: Extremely powerful computers used for specialized tasks like scientific research and weather forecasting.\\\\n7. **Embedded Computers**: Small computers integrated into other devices, such as traffic lights, appliances, and automotive systems.\\\\n\\\\n### How Computers Work:\\\\n1. **Input**: The user provides data or instructions through input devices.\\\\n2. **Processing**: The CPU executes instructions and performs calculations.\\\\n3. **Storage**: Data and programs are stored in memory (RAM) for quick access and on storage devices (hard drives, SSDs) for long-term retention.\\\\n4. **Output**: The computer provides results through output devices, such as a monitor or printer.\\\\n\\\\n### Applications of Computers:\\\\n- **Education**: Learning, research, and online courses.\\\\n- **Business**: Office work, accounting, and management.\\\\n- **Entertainment**: Gaming, video streaming, and multimedia production.\\\\n- **Science and Engineering**: Simulations, data analysis, and research.\\\\n- **Communication**: Email, social media, and video conferencing.\\\\n\\\\n### The Future of Computers:\\\\n- **Artificial Intelligence (AI)**: Computers that can learn and make decisions.\\\\n- **Quantum Computing**: Next-generation computers that use quantum bits (qubits) for faster processing.\\\\n- **Internet of Things (IoT)**: Integration of computers into everyday devices, creating a connected world.\\\\n- **Virtual and Augmented Reality**: Enhanced immersive experiences for gaming, education, and training.\\\\n\\\\nComputers continue to evolve, becoming faster, smaller, and more integrated into our daily lives.' additional_kwargs={} response_metadata={'token_usage': {'completion_tokens': 612, 'prompt_tokens': 4, 'total_tokens': 616, 'completion_time': 2.225454545, 'prompt_time': 0.000158967, 'queue_time': 0.055149923, 'total_time': 2.225613512}, 'model_name': 'Deepseek-R1-Distill-Llama-70b', 'system_fingerprint': 'fp_1bbe7845ec', 'finish_reason': 'stop', 'logprobs': None} id='run--99c04446-19c2-4b3f-901d-8798be8b6db0-0' usage_metadata={'input_tokens': 4, 'output_tokens': 612, 'total_tokens': 616}\", additional_kwargs={}, response_metadata={})])"
      ]
     },
     "execution_count": 12,
     "metadata": {},
     "output_type": "execute_result"
    }
   ],
   "source": [
    "prompt.invoke(model.invoke(\"computer\"))"
   ]
  },
  {
   "cell_type": "code",
   "execution_count": 13,
   "id": "f305c84a",
   "metadata": {},
   "outputs": [],
   "source": [
    "from langchain_core.output_parsers import StrOutputParser"
   ]
  },
  {
   "cell_type": "code",
   "execution_count": 14,
   "id": "0744dafc",
   "metadata": {},
   "outputs": [],
   "source": [
    "output_parser = StrOutputParser()"
   ]
  },
  {
   "cell_type": "code",
   "execution_count": 15,
   "id": "dac8d78f",
   "metadata": {},
   "outputs": [],
   "source": [
    "chain = prompt|model|output_parser"
   ]
  },
  {
   "cell_type": "code",
   "execution_count": 16,
   "id": "2934e7b8",
   "metadata": {},
   "outputs": [
    {
     "data": {
      "text/plain": [
       "'<think>\\nAlright, so I need to come up with a joke about machine learning as a satire comedian. Hmm, machine learning is a big field, so I should think about common themes or issues people in the industry face. Maybe something about data, since that\\'s a huge part of ML. \\n\\nI remember hearing that data is like the new oil, which is a common saying. So maybe I can play with that idea. But how? Satire often involves a twist or an unexpected comparison. \\n\\nWait, oil is drilled, refined, and then used for various things. Data is collected, processed, and used for models. Maybe I can make a joke comparing the two processes. \\n\\nWhat if I say something like, \"Machine learning is like oil drilling, but instead of drilling for oil, we\\'re drilling for data. Except in machine learning, the oil is data, and the pipeline is your privacy!\" That adds a twist by bringing in privacy, which is a hot topic with data usage.\\n\\nLet me check if that makes sense. It starts with a common analogy, then subverts it by highlighting a modern concern. Yeah, that should work as a satirical joke.\\n</think>\\n\\n\"Machine learning is like oil drilling, but instead of drilling for oil, we\\'re drilling for data. Except in machine learning, the oil is data, and the pipeline is your privacy!\"'"
      ]
     },
     "execution_count": 16,
     "metadata": {},
     "output_type": "execute_result"
    }
   ],
   "source": [
    "chain.invoke(\"machine learning\")"
   ]
  },
  {
   "cell_type": "code",
   "execution_count": 17,
   "id": "bd9e43ee",
   "metadata": {},
   "outputs": [
    {
     "data": {
      "text/plain": [
       "'<think>\\nOkay, I need to come up with a joke about computers. Let me think about common issues people have with computers. Maybe something relatable. \\n\\nComputers can be slow sometimes, right? That\\'s a common frustration. Maybe I can play on the idea of speed. People often talk about computers being fast, but sometimes they lag. \\n\\nI remember seeing jokes where inanimate objects talk or have personalities. Maybe I can personify the computer. \\n\\nSo, the computer is slow, and the user is frustrated. The computer could make an excuse. What\\'s a common excuse? Maybe blaming something else, like the internet connection. \\n\\nWait, that could work. The computer says it\\'s not slow, it\\'s just... let me think of a phrase. \"Pacing itself\" is a phrase people use sarcastically when something is slow. \\n\\nPutting it together: The computer says, \"I\\'m not slow, I\\'m just pacing myself. You know, like when you hit 100% battery and suddenly care about conservation.\" That ties in another relatable situation with battery life, which people find funny. \\n\\nDoes that make sense? It connects two common tech frustrations and gives the computer a sassy response. I think it works as a joke. It\\'s light-hearted and plays on everyday experiences with technology.\\n</think>\\n\\nSure! Here\\'s a joke about computers:\\n\\nWhy did the computer go to the doctor?  \\nBecause it had a virus!  \\n\\nHope that made you giggle!'"
      ]
     },
     "execution_count": 17,
     "metadata": {},
     "output_type": "execute_result"
    }
   ],
   "source": [
    "topic = input()\n",
    "chain.invoke({\"topic\":topic})"
   ]
  }
 ],
 "metadata": {
  "kernelspec": {
   "display_name": ".venv",
   "language": "python",
   "name": "python3"
  },
  "language_info": {
   "codemirror_mode": {
    "name": "ipython",
    "version": 3
   },
   "file_extension": ".py",
   "mimetype": "text/x-python",
   "name": "python",
   "nbconvert_exporter": "python",
   "pygments_lexer": "ipython3",
   "version": "3.11.6"
  }
 },
 "nbformat": 4,
 "nbformat_minor": 5
}
