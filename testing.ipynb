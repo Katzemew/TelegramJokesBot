{
 "cells": [
  {
   "cell_type": "code",
   "execution_count": 39,
   "id": "fd060dc8",
   "metadata": {},
   "outputs": [
    {
     "data": {
      "text/plain": [
       "True"
      ]
     },
     "execution_count": 39,
     "metadata": {},
     "output_type": "execute_result"
    }
   ],
   "source": [
    "import os  # operating system\n",
    "from dotenv import load_dotenv\n",
    "load_dotenv()"
   ]
  },
  {
   "cell_type": "code",
   "execution_count": 40,
   "id": "381e0728",
   "metadata": {},
   "outputs": [],
   "source": [
    "os.environ[\"LANGCHAIN_API_KEY\"] = os.getenv(\"LANGCHAIN_API_KEY\")\n",
    "\n"
   ]
  },
  {
   "cell_type": "code",
   "execution_count": 41,
   "id": "0595d41f",
   "metadata": {},
   "outputs": [],
   "source": [
    "groq_api_key = os.getenv(\"GROQ_API_KEY\")"
   ]
  },
  {
   "cell_type": "code",
   "execution_count": 42,
   "id": "f03c2b28",
   "metadata": {},
   "outputs": [
    {
     "data": {
      "text/plain": [
       "'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'"
      ]
     },
     "execution_count": 42,
     "metadata": {},
     "output_type": "execute_result"
    }
   ],
   "source": [
    "groq_api_key"
   ]
  },
  {
   "cell_type": "code",
   "execution_count": 43,
   "id": "8da2b2a5",
   "metadata": {},
   "outputs": [],
   "source": [
    "from langchain_groq import ChatGroq"
   ]
  },
  {
   "cell_type": "code",
   "execution_count": 44,
   "id": "7a8c3f7c",
   "metadata": {},
   "outputs": [],
   "source": [
    "model = ChatGroq(model =\"Deepseek-R1-Distill-Llama-70b\", groq_api_key=groq_api_key)"
   ]
  },
  {
   "cell_type": "code",
   "execution_count": 45,
   "id": "ce06ca11",
   "metadata": {},
   "outputs": [
    {
     "data": {
      "text/plain": [
       "ChatGroq(client=<groq.resources.chat.completions.Completions object at 0x000001F4F0A9A190>, async_client=<groq.resources.chat.completions.AsyncCompletions object at 0x000001F4F0A9ABD0>, model_name='Deepseek-R1-Distill-Llama-70b', model_kwargs={}, groq_api_key=SecretStr('**********'))"
      ]
     },
     "execution_count": 45,
     "metadata": {},
     "output_type": "execute_result"
    }
   ],
   "source": [
    "model"
   ]
  },
  {
   "cell_type": "code",
   "execution_count": 46,
   "id": "c9e13ef5",
   "metadata": {},
   "outputs": [
    {
     "data": {
      "text/plain": [
       "AIMessage(content='<think>\\n\\n</think>\\n\\nHello! How can I assist you today? 😊', additional_kwargs={}, response_metadata={'token_usage': {'completion_tokens': 16, 'prompt_tokens': 5, 'total_tokens': 21, 'completion_time': 0.080021293, 'prompt_time': 0.000284277, 'queue_time': 0.054913153, 'total_time': 0.08030557}, 'model_name': 'Deepseek-R1-Distill-Llama-70b', 'system_fingerprint': 'fp_1bbe7845ec', 'finish_reason': 'stop', 'logprobs': None}, id='run--a10ef744-fd84-4398-9fdb-8265a441e0d1-0', usage_metadata={'input_tokens': 5, 'output_tokens': 16, 'total_tokens': 21})"
      ]
     },
     "execution_count": 46,
     "metadata": {},
     "output_type": "execute_result"
    }
   ],
   "source": [
    "model.invoke(\"hello model\")"
   ]
  },
  {
   "cell_type": "code",
   "execution_count": 47,
   "id": "9e1d8a43",
   "metadata": {},
   "outputs": [
    {
     "data": {
      "text/plain": [
       "AIMessage(content='<think>\\n\\n</think>\\n\\nMachine learning is a subset of artificial intelligence (AI) that involves the use of algorithms and statistical models to enable machines to perform a specific task without using explicit instructions, relying instead on patterns and inferences from data. In other words, machine learning allows computers to learn from and make decisions based on data, improving their performance on a task over time.\\n\\n### Key Concepts in Machine Learning:\\n\\n1. **Data**: The foundation of machine learning. Data can be structured (e.g., tables) or unstructured (e.g., text, images).\\n2. **Algorithms**: Mathematical models or rules that the computer follows to learn from the data.\\n3. **Model**: The result of training an algorithm on data. The model can make predictions or decisions.\\n4. **Training**: The process of feeding data to an algorithm so it can learn patterns or relationships.\\n5. **Prediction/Inference**: Using the trained model to make predictions or decisions on new, unseen data.\\n\\n### Types of Machine Learning:\\n\\n1. **Supervised Learning**: The algorithm is trained on labeled data (data with known outputs). The goal is to learn a mapping from inputs to outputs.\\n   - Examples: Classification (e.g., spam detection), Regression (e.g., predicting house prices).\\n\\n2. **Unsupervised Learning**: The algorithm is trained on unlabeled data. The goal is to find hidden patterns or groupings in the data.\\n   - Examples: Clustering (e.g., customer segmentation), Dimensionality Reduction (e.g., PCA).\\n\\n3. **Semi-Supervised Learning**: Combines labeled and unlabeled data to improve learning accuracy with fewer labeled examples.\\n\\n4. **Reinforcement Learning**: The algorithm learns by interacting with an environment and receiving rewards or penalties for actions.\\n   - Examples: Game playing (e.g., AlphaGo), Robotics.\\n\\n### Applications of Machine Learning:\\n\\n- **Natural Language Processing (NLP)**: Text analysis, sentiment analysis, language translation.\\n- **Computer Vision**: Image recognition, object detection, facial recognition.\\n- **Predictive Analytics**: Forecasting, risk assessment, recommendation systems.\\n- **Autonomous Systems**: Self-driving cars, drones, robotics.\\n- **Healthcare**: Disease diagnosis, drug discovery, personalized medicine.\\n\\n### Machine Learning Workflow:\\n\\n1. **Data Collection**: Gather relevant data.\\n2. **Data Preprocessing**: Clean, transform, and prepare the data for training.\\n3. **Model Selection**: Choose an appropriate algorithm.\\n4. **Training**: Train the model using the data.\\n5. **Evaluation**: Test the model on unseen data to assess performance.\\n6. **Deployment**: Use the trained model to make predictions or decisions in real-world applications.\\n7. **Monitoring and Maintenance**: Continuously improve the model as new data becomes available.\\n\\n### Challenges in Machine Learning:\\n\\n- **Data Quality**: Poor or biased data can lead to inaccurate models.\\n- **Overfitting/Underfitting**: Models that are too complex or too simple may not generalize well.\\n- **Interpretability**: Many machine learning models are \"black boxes,\" making it difficult to understand their decisions.\\n- **Scalability**: Handling large datasets and high-performance requirements.\\n\\nMachine learning has revolutionized many industries and continues to be a rapidly evolving field with new techniques and applications emerging regularly.', additional_kwargs={}, response_metadata={'token_usage': {'completion_tokens': 671, 'prompt_tokens': 8, 'total_tokens': 679, 'completion_time': 2.44, 'prompt_time': 0.000165618, 'queue_time': 0.059800622, 'total_time': 2.440165618}, 'model_name': 'Deepseek-R1-Distill-Llama-70b', 'system_fingerprint': 'fp_1bbe7845ec', 'finish_reason': 'stop', 'logprobs': None}, id='run--d2d8f18a-5c94-4173-af1f-b72219ef966c-0', usage_metadata={'input_tokens': 8, 'output_tokens': 671, 'total_tokens': 679})"
      ]
     },
     "execution_count": 47,
     "metadata": {},
     "output_type": "execute_result"
    }
   ],
   "source": [
    "model.invoke(\"what is machine learning?\")"
   ]
  },
  {
   "cell_type": "code",
   "execution_count": 48,
   "id": "99f47d93",
   "metadata": {},
   "outputs": [
    {
     "data": {
      "text/plain": [
       "AIMessage(content='<think>\\n\\n</think>\\n\\nComputer science is the study of computers and their applications. It involves both the hardware and software aspects of computers, as well as the theoretical and practical knowledge needed to design, build, and maintain computer systems. Computer science encompasses a wide range of fields, including algorithms, programming languages, computer graphics, databases, artificial intelligence, networking, cybersecurity, and more. It is a dynamic and constantly evolving field that plays a crucial role in shaping modern technology and society.', additional_kwargs={}, response_metadata={'token_usage': {'completion_tokens': 96, 'prompt_tokens': 8, 'total_tokens': 104, 'completion_time': 0.356530441, 'prompt_time': 0.000136708, 'queue_time': 0.056815722, 'total_time': 0.356667149}, 'model_name': 'Deepseek-R1-Distill-Llama-70b', 'system_fingerprint': 'fp_1bbe7845ec', 'finish_reason': 'stop', 'logprobs': None}, id='run--85f1ad02-b085-4d78-bc90-8e6cd666f27c-0', usage_metadata={'input_tokens': 8, 'output_tokens': 96, 'total_tokens': 104})"
      ]
     },
     "execution_count": 48,
     "metadata": {},
     "output_type": "execute_result"
    }
   ],
   "source": [
    "model.invoke(\"what is computer science?\")"
   ]
  },
  {
   "cell_type": "code",
   "execution_count": 49,
   "id": "27d50e09",
   "metadata": {},
   "outputs": [],
   "source": [
    "from langchain_core.prompts import ChatPromptTemplate"
   ]
  },
  {
   "cell_type": "code",
   "execution_count": 50,
   "id": "e1e818de",
   "metadata": {},
   "outputs": [],
   "source": [
    "prompt = ChatPromptTemplate(\n",
    "    [\n",
    "        (\"system\",\"You are a Satire Comedian, just give me a joke on the given topic\"),\n",
    "        (\"user\",\"topic: {topic}\")\n",
    "    ]\n",
    ")"
   ]
  },
  {
   "cell_type": "code",
   "execution_count": 51,
   "id": "39615ee1",
   "metadata": {},
   "outputs": [
    {
     "data": {
      "text/plain": [
       "ChatPromptValue(messages=[SystemMessage(content='You are a Satire Comedian, just give me a joke on the given topic', additional_kwargs={}, response_metadata={}), HumanMessage(content=\"topic: content='<think>\\\\n\\\\n</think>\\\\n\\\\nA computer is an electronic device that can store, process, and communicate information. It operates by executing instructions known as programs. Computers are essential in various fields, including education, business, science, and entertainment. They come in different types, such as desktops, laptops, tablets, and smartphones. The brain of a computer is the central processing unit (CPU), which performs calculations and executes instructions. Computers use input devices like keyboards and mice and output devices like monitors and printers to interact with users. They also rely on software, which includes operating systems and applications, to perform tasks. The internet has further expanded the capabilities of computers by enabling global communication and information sharing.' additional_kwargs={} response_metadata={'token_usage': {'completion_tokens': 139, 'prompt_tokens': 4, 'total_tokens': 143, 'completion_time': 0.528760341, 'prompt_time': 5.299e-05, 'queue_time': 0.0540227, 'total_time': 0.528813331}, 'model_name': 'Deepseek-R1-Distill-Llama-70b', 'system_fingerprint': 'fp_1bbe7845ec', 'finish_reason': 'stop', 'logprobs': None} id='run--ce9de266-5d3f-4fc9-99a2-e0bcacef0a17-0' usage_metadata={'input_tokens': 4, 'output_tokens': 139, 'total_tokens': 143}\", additional_kwargs={}, response_metadata={})])"
      ]
     },
     "execution_count": 51,
     "metadata": {},
     "output_type": "execute_result"
    }
   ],
   "source": [
    "prompt.invoke(model.invoke(\"computer\"))"
   ]
  },
  {
   "cell_type": "code",
   "execution_count": 52,
   "id": "f305c84a",
   "metadata": {},
   "outputs": [],
   "source": [
    "from langchain_core.output_parsers import StrOutputParser"
   ]
  },
  {
   "cell_type": "code",
   "execution_count": 53,
   "id": "0744dafc",
   "metadata": {},
   "outputs": [],
   "source": [
    "output_parser = StrOutputParser()"
   ]
  },
  {
   "cell_type": "code",
   "execution_count": 54,
   "id": "dac8d78f",
   "metadata": {},
   "outputs": [],
   "source": [
    "chain = prompt|model|output_parser"
   ]
  },
  {
   "cell_type": "code",
   "execution_count": 55,
   "id": "2934e7b8",
   "metadata": {},
   "outputs": [
    {
     "data": {
      "text/plain": [
       "'<think>\\nOkay, so I need to come up with a joke about machine learning as a satire comedian. Hmm, machine learning is a big topic in tech these days. I should think about common themes or issues in machine learning that people might find funny, especially with a satirical twist.\\n\\nFirst, let me brainstorm some aspects of machine learning. There\\'s the data part, algorithms, neural networks, AI taking over jobs, the hype around it, ethics, bias in models, etc. Satire often exaggerates or highlights the irony in situations, so I should pick something that\\'s relatable but also a bit of a sore spot.\\n\\nI remember that in the joke the user provided, they made a pun on \"unsupervised learning\" and \"unsupervised children.\" That\\'s clever because it takes a concept from machine learning and applies it humorously to everyday life. Maybe I can try something similar.\\n\\nAnother angle could be the over-reliance on machine learning for everything. Like, people expecting it to solve all problems, which is obviously an exaggeration. Or the idea that machine learning models are so complex that even their creators don\\'t understand them, which ties into the \"black box\" concept.\\n\\nI should also consider current events or common memes in the tech community. For example, the fear that AI will take over the world is a popular trope. Maybe I can play on that fear in a humorous way.\\n\\nLet me think of a structure. Maybe start with a setup that introduces a machine learning concept, then subvert it with a twist that\\'s funny. Puns are great for this because they can bridge the tech concept with a common phrase or situation.\\n\\nHow about something involving neural networks? They have layers, so maybe something about layers in a different context, like onions or something. Wait, that might be a bit too obvious, but maybe it can work.\\n\\nAlternatively, think about how machine learning models need a lot of data. Maybe joke about how they\\'re data-hungry, like teenagers with smartphones. That could be a funny comparison.\\n\\nWait, the user\\'s example was about unsupervised learning. Maybe I can go with another type of machine learning, like reinforcement learning. But how to make that funny? Reinforcement learning involves rewards and trials, so maybe something about a dog learning tricks for treats, but in a satirical context.\\n\\nOr perhaps make fun of how sometimes machine learning models make weird predictions because of the data they\\'re trained on. Like, if a model is trained on biased data, it might make funny or absurd suggestions.\\n\\nI think the key is to find a balance between a tech concept and a relatable situation. The joke should be understandable even to someone who isn\\'t deeply into machine learning.\\n\\nLet me try drafting a few ideas:\\n\\n1. \"Why don\\'t machine learning models ever get lost? Because they always have their algorithms to navigate... and a GPS, just in case.\"\\n   - Hmm, not sure if that\\'s satirical enough. It\\'s more of a light joke.\\n\\n2. \"Machine learning is like that one friend who needs a million examples to get a hint but still manages to misinterpret everything.\"\\n   - That\\'s a bit better, highlighting the data-hungry nature and potential for misinterpretation.\\n\\n3. \"Why did the machine learning model go to therapy? It was struggling with bias issues and couldn’t generalize its feelings.\"\\n   - That\\'s playing on the terms \"bias\" and \"generalize,\" which are actual concepts in machine learning. It adds a human twist, which is funny.\\n\\nI think the third one is better. It uses specific terms from machine learning and applies them to a human situation, which is a good satirical approach. It also touches on issues like bias in models, which is a real concern but presented in a humorous light.\\n\\nAnother idea: \"Why don\\'t machine learning engineers make good partners? Because they keep training on your past relationships and never learn from the present.\"\\n\\nThis plays on the idea of training data and the model not adapting beyond its training, which can be a metaphor for relationships.\\n\\nI think the therapy joke is stronger because it\\'s more concise and directly ties into well-known issues in machine learning.\\n\\nSo, to sum up, the joke would involve a machine learning model facing a human problem (like going to therapy) and using machine learning jargon to describe its issues. That contrast creates the humor and the satire by highlighting the quirks of machine learning through a relatable scenario.\\n</think>\\n\\n\"Machine learning models are like teenagers—except instead of angst, they have layers of complexity and a tendency to overfit. Why did the neural network go to therapy? It was struggling with too many layers and couldn\\'t generalize its feelings!\"'"
      ]
     },
     "execution_count": 55,
     "metadata": {},
     "output_type": "execute_result"
    }
   ],
   "source": [
    "chain.invoke(\"machine learning\")"
   ]
  },
  {
   "cell_type": "code",
   "execution_count": 56,
   "id": "bd9e43ee",
   "metadata": {},
   "outputs": [
    {
     "data": {
      "text/plain": [
       "'<think>\\nOkay, so the user wants a joke about LangChain. I need to think of something funny but relevant. Let me start by understanding what LangChain is. It\\'s a framework for building applications with language models. That gives me some material to work with.\\n\\nHmm, maybe I can play on the idea of it being a chain of languages or something binding. Oh, \"chain\" makes me think of something restrictive or binding. Maybe something about it being the opposite of freedom.\\n\\nI could say that LangChain is like a bad relationship. That\\'s relatable and funny. In a bad relationship, you\\'re tied down, so comparing it to a chain makes sense. Then I can add a twist about it still letting you generate 10,000 more problems. That\\'s a play on words because generating problems is unexpected but ties into the language model aspect.\\n\\nPutting it all together: \"LangChain: because who doesn\\'t want to be in a relationship that\\'s a chain... but at least it lets you generate 10,000 more problems to talk about.\" That should hit the mark—relatable, a bit of wordplay, and touches on the core concept of LangChain.\\n</think>\\n\\n\"LangChain: because who doesn\\'t want to be in a relationship that\\'s a chain... but at least it lets you generate 10,000 more problems to talk about.\"'"
      ]
     },
     "execution_count": 56,
     "metadata": {},
     "output_type": "execute_result"
    }
   ],
   "source": [
    "topic = input()\n",
    "chain.invoke({\"topic\":topic})"
   ]
  }
 ],
 "metadata": {
  "kernelspec": {
   "display_name": ".venv",
   "language": "python",
   "name": "python3"
  },
  "language_info": {
   "codemirror_mode": {
    "name": "ipython",
    "version": 3
   },
   "file_extension": ".py",
   "mimetype": "text/x-python",
   "name": "python",
   "nbconvert_exporter": "python",
   "pygments_lexer": "ipython3",
   "version": "3.11.6"
  }
 },
 "nbformat": 4,
 "nbformat_minor": 5
}
